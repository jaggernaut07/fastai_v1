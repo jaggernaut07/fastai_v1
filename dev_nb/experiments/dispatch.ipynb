{
 "cells": [
  {
   "cell_type": "code",
   "execution_count": null,
   "metadata": {},
   "outputs": [],
   "source": [
    "from pdb import set_trace\n",
    "\n",
    "def multi(dispatch_fn):\n",
    "    def _inner(*args, **kwargs):\n",
    "        return _inner.__multi__.get(\n",
    "            dispatch_fn(*args, **kwargs),\n",
    "            _inner.__multi_default__\n",
    "        )(*args, **kwargs)\n",
    "\n",
    "    _inner.__multi__ = {}\n",
    "    _inner.__multi_default__ = lambda *args, **kwargs: None  # Default default\n",
    "    return _inner\n",
    "\n",
    "def method(dispatch_fn, dispatch_key=None):\n",
    "    def apply_decorator(fn):\n",
    "        if dispatch_key is None:\n",
    "            # Default case\n",
    "            dispatch_fn.__multi_default__ = fn\n",
    "        else:\n",
    "            dispatch_fn.__multi__[dispatch_key] = fn\n",
    "        return dispatch_fn\n",
    "    return apply_decorator"
   ]
  },
  {
   "cell_type": "code",
   "execution_count": null,
   "metadata": {},
   "outputs": [],
   "source": [
    "from dataclasses import dataclass\n",
    "from enum import Enum\n",
    "from functools import wraps\n",
    "\n",
    "TfmType = Enum('TfmType','Coord Pixel')\n",
    "\n",
    "@dataclass\n",
    "class Item(object):\n",
    "    tfm_type:TfmType\n",
    "    foo: str\n",
    "\n",
    "@dataclass\n",
    "class BoxItem(Item):\n",
    "    box:str"
   ]
  },
  {
   "cell_type": "code",
   "execution_count": null,
   "metadata": {},
   "outputs": [],
   "source": [
    "def whatever(func):\n",
    "    @wraps(func)\n",
    "    def apply_to_list(xs, *args, **kwargs):\n",
    "        return [func(x, *args, **kwargs) for x in xs]\n",
    "    return apply_to_list\n",
    "\n",
    "@whatever\n",
    "@multi\n",
    "def zoom(x, *args, **kwargs):\n",
    "    #print('dispatch', x.tfm_type, x.__class__, x.foo)\n",
    "    return x.tfm_type, x.__class__, x.foo\n",
    "\n",
    "@method(zoom,(TfmType.Coord, Item, 'foo'))\n",
    "def zooma(x, *args, **kwargs):\n",
    "    print('coord item and foo', args, kwargs)\n",
    "    \n",
    "@method(zoom,(TfmType.Coord, Item, 'bar'))\n",
    "def zoomb(x, *args, **kwargs):\n",
    "    print('coord item and bar', args, kwargs)\n",
    "\n",
    "@method(zoom,(TfmType.Coord, BoxItem, 'foo'))\n",
    "def zoomc(x, *args, **kwargs):\n",
    "    print('coord BoxItem and foo', args, kwargs)\n",
    "    \n",
    "@method(zoom,(TfmType.Coord, BoxItem, 'bar'))\n",
    "def zoomd(x, *args, **kwargs):\n",
    "    print('coord BoxItem and bar', args, kwargs)\n",
    "\n",
    "@method(zoom,(TfmType.Pixel, Item, 'bar'))\n",
    "def zoome(x, *args, **kwargs):\n",
    "    print('pix, item or box and bar', args, kwargs)\n",
    "\n",
    "@method(zoom)  # Default\n",
    "def zoomf(*args, **kwargs):\n",
    "    return \"huh?\"\n"
   ]
  },
  {
   "cell_type": "code",
   "execution_count": null,
   "metadata": {},
   "outputs": [],
   "source": [
    "a = Item(TfmType.Coord, 'foo')\n",
    "b = Item(TfmType.Pixel, 'bar')\n",
    "c = Item(TfmType.Pixel, 'foo')\n",
    "d = BoxItem(TfmType.Coord, 'foo', 'a box')\n",
    "e = BoxItem(TfmType.Pixel, 'bar', 'yep a box')\n",
    "f = BoxItem(TfmType.Pixel, 'foo', 'foo bar')"
   ]
  },
  {
   "cell_type": "code",
   "execution_count": null,
   "metadata": {},
   "outputs": [],
   "source": [
    "zoom([a,b,c,d,e,f], dispatch_is='cool')"
   ]
  },
  {
   "cell_type": "code",
   "execution_count": null,
   "metadata": {},
   "outputs": [],
   "source": []
  }
 ],
 "metadata": {
  "kernelspec": {
   "display_name": "Python 3",
   "language": "python",
   "name": "python3"
  }
 },
 "nbformat": 4,
 "nbformat_minor": 2
}
